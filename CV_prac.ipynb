{
 "cells": [
  {
   "cell_type": "code",
   "execution_count": 5,
   "metadata": {},
   "outputs": [],
   "source": [
    "import cv2\n",
    "import numpy as np\n",
    "import matplotlib.pyplot as plt"
   ]
  },
  {
   "cell_type": "code",
   "execution_count": 6,
   "metadata": {},
   "outputs": [],
   "source": [
    "# draw circles on mouse clicks\n",
    "img = np.zeros((512,512,3))\n",
    "\n",
    "def draw_circle(event,x,y,flags,param):\n",
    "    if event == cv2.EVENT_LBUTTONDOWN:\n",
    "        # cv reads colurs as BGR instead of RGB but we can change this order by cv2.cvtColor() method\n",
    "        cv2.circle(img,(x,y),radius=50,color=(255,255,0),thickness=10)\n",
    "    if event == cv2.EVENT_RBUTTONDOWN:\n",
    "        cv2.circle(img,(x,y),50,(0,255,255),thickness=-1)\n",
    "\n",
    "cv2.namedWindow('my_img')\n",
    "\n",
    "cv2.setMouseCallback('my_img',draw_circle)\n",
    "\n",
    "\n",
    "while True:\n",
    "    cv2.imshow('my_img',img)\n",
    "    if cv2.waitKey(1) & 0xFF == 27:\n",
    "        break\n",
    "cv2.destroyAllWindows()        "
   ]
  },
  {
   "cell_type": "code",
   "execution_count": 7,
   "metadata": {},
   "outputs": [],
   "source": [
    "# draw continous rectangles with mouse drags\n",
    "\n",
    "drawing = False\n",
    "ix=-1\n",
    "iy=1\n",
    "\n",
    "#this function makes veru small rectangles and when dragged it seems like a big rectangle\n",
    "def continous(event,x,y,flags,param):\n",
    "    global drawing,ix,iy\n",
    "    if event == cv2.EVENT_LBUTTONDOWN:\n",
    "        drawing = True\n",
    "        ix,iy=x,y\n",
    "        \n",
    "    elif event ==cv2.EVENT_MOUSEMOVE:\n",
    "        if drawing == True:\n",
    "            cv2.rectangle(img,(ix,iy),(x,y),color=(255,0,0),thickness=-1)\n",
    "    elif event == cv2.EVENT_LBUTTONUP:\n",
    "        drawing=False\n",
    "\n",
    "        \n",
    "cv2.namedWindow('my_draw')\n",
    "\n",
    "cv2.setMouseCallback('my_draw',continous)\n",
    "\n",
    "\n",
    "\n",
    "img = np.zeros((512,512,3))\n",
    "\n",
    "while True:\n",
    "    if cv2.waitKey(1) & 0xFF == 27:\n",
    "        break\n",
    "    cv2.imshow('my_draw',img)\n",
    "    \n",
    "cv2.destroyAllWindows()    "
   ]
  },
  {
   "cell_type": "code",
   "execution_count": null,
   "metadata": {},
   "outputs": [],
   "source": []
  }
 ],
 "metadata": {
  "kernelspec": {
   "display_name": "Python 3",
   "language": "python",
   "name": "python3"
  },
  "language_info": {
   "codemirror_mode": {
    "name": "ipython",
    "version": 3
   },
   "file_extension": ".py",
   "mimetype": "text/x-python",
   "name": "python",
   "nbconvert_exporter": "python",
   "pygments_lexer": "ipython3",
   "version": "3.7.6"
  }
 },
 "nbformat": 4,
 "nbformat_minor": 4
}
